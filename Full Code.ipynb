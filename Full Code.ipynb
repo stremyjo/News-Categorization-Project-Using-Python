{
 "cells": [
  {
   "cell_type": "code",
   "execution_count": 17,
   "metadata": {},
   "outputs": [],
   "source": [
    "import pandas as pd          # Data manipulation\n",
    "import nltk                 # Natural Language Processing (NLP)\n",
    "from nltk.tokenize import word_tokenize\n",
    "from sklearn.model_selection import train_test_split   # For splitting the data\n",
    "from sklearn.feature_extraction.text import CountVectorizer, TfidfVectorizer   # Feature extraction\n",
    "from sklearn.naive_bayes import MultinomialNB          # Naive Bayes classifier\n",
    "from sklearn.metrics import classification_report, accuracy_score   # Model evaluation"
   ]
  },
  {
   "cell_type": "code",
   "execution_count": 18,
   "metadata": {},
   "outputs": [],
   "source": [
    "import pandas as pd\n",
    "\n",
    "# Read the CSV file into a DataFrame, skipping lines with parsing errors\n",
    "data = pd.read_csv('/Users/joannestremy/Documents/Global/newsCorpora.csv', on_bad_lines='skip', header=None, usecols=[0])\n",
    "\n",
    "# Now you can work with the 'data' DataFrame\n"
   ]
  },
  {
   "cell_type": "code",
   "execution_count": 19,
   "metadata": {},
   "outputs": [
    {
     "name": "stdout",
     "output_type": "stream",
     "text": [
      "                                                   0\n",
      "0   1\\tFed official says weak data caused by weather\n",
      "1  2\\tFed's Charles Plosser sees high bar for cha...\n",
      "2  3\\tUS open: Stocks fall after Fed official hin...\n",
      "3            4\\tFed risks falling 'behind the curve'\n",
      "4  5\\tFed's Plosser: Nasty Weather Has Curbed Job...\n",
      "0    0\n",
      "dtype: int64\n",
      "0    object\n",
      "dtype: object\n"
     ]
    }
   ],
   "source": [
    "# Display the first few rows\n",
    "print(data.head())\n",
    "\n",
    "# Check for missing values\n",
    "print(data.isnull().sum())\n",
    "\n",
    "# Examine data types\n",
    "print(data.dtypes)\n"
   ]
  },
  {
   "cell_type": "code",
   "execution_count": 20,
   "metadata": {},
   "outputs": [],
   "source": [
    "# Removing Duplicates\n",
    "data.drop_duplicates(inplace=True)\n",
    "\n",
    "# Converting to Lowercase\n",
    "data[0] = data[0].str.lower()\n",
    "\n",
    "# Handling Missing Values\n",
    "data[0].fillna(\"\", inplace=True)\n"
   ]
  },
  {
   "cell_type": "code",
   "execution_count": 21,
   "metadata": {},
   "outputs": [
    {
     "name": "stderr",
     "output_type": "stream",
     "text": [
      "[nltk_data] Downloading package punkt to\n",
      "[nltk_data]     /Users/joannestremy/nltk_data...\n",
      "[nltk_data]   Package punkt is already up-to-date!\n"
     ]
    }
   ],
   "source": [
    "import nltk\n",
    "nltk.download('punkt')\n",
    "\n",
    "# Tokenize the headlines\n",
    "data['tokens'] = data[0].apply(nltk.word_tokenize)\n"
   ]
  },
  {
   "cell_type": "code",
   "execution_count": 22,
   "metadata": {},
   "outputs": [
    {
     "name": "stderr",
     "output_type": "stream",
     "text": [
      "[nltk_data] Downloading package stopwords to\n",
      "[nltk_data]     /Users/joannestremy/nltk_data...\n",
      "[nltk_data]   Package stopwords is already up-to-date!\n"
     ]
    }
   ],
   "source": [
    "from nltk.corpus import stopwords\n",
    "\n",
    "# Download stopwords data (you only need to do this once)\n",
    "import nltk\n",
    "nltk.download('stopwords')\n",
    "\n",
    "# Remove stopwords from each token list\n",
    "stop_words = set(stopwords.words('english'))\n",
    "data['tokens'] = data['tokens'].apply(lambda tokens: [word for word in tokens if word not in stop_words])\n"
   ]
  },
  {
   "cell_type": "code",
   "execution_count": 23,
   "metadata": {},
   "outputs": [],
   "source": [
    "from nltk.stem import PorterStemmer\n",
    "\n",
    "# Create a stemmer\n",
    "stemmer = PorterStemmer()\n",
    "\n",
    "# Apply stemming to each token list\n",
    "data['tokens'] = data['tokens'].apply(lambda tokens: [stemmer.stem(word) for word in tokens])\n"
   ]
  },
  {
   "cell_type": "code",
   "execution_count": 24,
   "metadata": {},
   "outputs": [],
   "source": [
    "import re\n",
    "\n",
    "# Define a function to remove special characters from a list of tokens\n",
    "def remove_special_characters(tokens):\n",
    "    cleaned_tokens = [re.sub(r'[^a-zA-Z0-9\\s]', '', token) for token in tokens]\n",
    "    return cleaned_tokens\n",
    "\n",
    "# Apply the function to the 'tokens' column\n",
    "data['tokens'] = data['tokens'].apply(remove_special_characters)\n"
   ]
  },
  {
   "cell_type": "code",
   "execution_count": 25,
   "metadata": {},
   "outputs": [
    {
     "name": "stdout",
     "output_type": "stream",
     "text": [
      "                                                   0  \\\n",
      "0   1\\tfed official says weak data caused by weather   \n",
      "1  2\\tfed's charles plosser sees high bar for cha...   \n",
      "2  3\\tus open: stocks fall after fed official hin...   \n",
      "3            4\\tfed risks falling 'behind the curve'   \n",
      "4  5\\tfed's plosser: nasty weather has curbed job...   \n",
      "\n",
      "                                              tokens  \n",
      "0   [1, fed, offici, say, weak, data, caus, weather]  \n",
      "1  [2, fed, s, charl, plosser, see, high, bar, ch...  \n",
      "2  [3, us, open, , stock, fall, fed, offici, hint...  \n",
      "3               [4, fed, risk, fall, behind, curv, ]  \n",
      "4  [5, fed, s, plosser, , nasti, weather, curb, j...  \n"
     ]
    }
   ],
   "source": [
    "# Display the first few rows\n",
    "print(data.head())\n"
   ]
  },
  {
   "cell_type": "code",
   "execution_count": 26,
   "metadata": {},
   "outputs": [],
   "source": [
    "# Define the categories and their associated keywords\n",
    "category_keywords = {\n",
    "    'politics': ['politics', 'government', 'election', 'president', 'congress', 'senate'],\n",
    "    'sports': ['sports', 'football', 'basketball', 'baseball', 'soccer', 'athlete'],\n",
    "    'technology': ['technology', 'innovation', 'software', 'AI', 'cybersecurity', 'internet'],\n",
    "    'business': ['business', 'economy', 'finance', 'stocks', 'market', 'entrepreneur'],\n",
    "    'health': ['health', 'medicine', 'wellness', 'pandemic', 'vaccine', 'doctor'],\n",
    "    'entertainment': ['entertainment', 'celebrity', 'movies', 'music', 'Hollywood', 'film'],\n",
    "}\n"
   ]
  },
  {
   "cell_type": "code",
   "execution_count": 27,
   "metadata": {},
   "outputs": [],
   "source": [
    "# Function for categorization\n",
    "def categorize_tokens(tokens):\n",
    "    category_counts = {}\n",
    "    for category, keywords in category_keywords.items():\n",
    "        count = sum(1 for token in tokens if token in keywords)\n",
    "        category_counts[category] = count\n",
    "    return max(category_counts, key=category_counts.get)\n",
    "\n",
    "# Apply categorization function and create a new column\n",
    "data['category'] = data['tokens'].apply(categorize_tokens)\n"
   ]
  },
  {
   "cell_type": "code",
   "execution_count": 28,
   "metadata": {},
   "outputs": [
    {
     "name": "stdout",
     "output_type": "stream",
     "text": [
      "                                                   0  \\\n",
      "0   1\\tfed official says weak data caused by weather   \n",
      "1  2\\tfed's charles plosser sees high bar for cha...   \n",
      "2  3\\tus open: stocks fall after fed official hin...   \n",
      "3            4\\tfed risks falling 'behind the curve'   \n",
      "4  5\\tfed's plosser: nasty weather has curbed job...   \n",
      "\n",
      "                                              tokens  category  \n",
      "0   [1, fed, offici, say, weak, data, caus, weather]  politics  \n",
      "1  [2, fed, s, charl, plosser, see, high, bar, ch...  politics  \n",
      "2  [3, us, open, , stock, fall, fed, offici, hint...  politics  \n",
      "3               [4, fed, risk, fall, behind, curv, ]  politics  \n",
      "4  [5, fed, s, plosser, , nasti, weather, curb, j...  politics  \n"
     ]
    }
   ],
   "source": [
    "# View the first few rows of the DataFrame\n",
    "print(data.head())\n"
   ]
  },
  {
   "cell_type": "code",
   "execution_count": 29,
   "metadata": {},
   "outputs": [],
   "source": [
    "# Save result as csv\n",
    "data.to_csv('output.csv', index=False)"
   ]
  },
  {
   "cell_type": "code",
   "execution_count": 30,
   "metadata": {},
   "outputs": [],
   "source": [
    "from sklearn.preprocessing import LabelEncoder\n",
    "\n",
    "# Extract the category labels\n",
    "train_labels = data['category']\n",
    "\n",
    "# Initialize the LabelEncoder\n",
    "label_encoder = LabelEncoder()\n",
    "\n",
    "# Convert string labels to numerical labels\n",
    "train_labels_encoded = label_encoder.fit_transform(train_labels)"
   ]
  },
  {
   "cell_type": "code",
   "execution_count": 31,
   "metadata": {},
   "outputs": [
    {
     "name": "stdout",
     "output_type": "stream",
     "text": [
      "              precision    recall  f1-score   support\n",
      "\n",
      "           0       1.00      0.00      0.00      1002\n",
      "           1       1.00      0.00      0.01      1539\n",
      "           2       1.00      0.00      0.00      1028\n",
      "           3       0.95      1.00      0.98     79082\n",
      "           4       1.00      0.00      0.00        28\n",
      "           5       1.00      0.00      0.00       443\n",
      "\n",
      "    accuracy                           0.95     83122\n",
      "   macro avg       0.99      0.17      0.16     83122\n",
      "weighted avg       0.95      0.95      0.93     83122\n",
      "\n"
     ]
    }
   ],
   "source": [
    "from sklearn.model_selection import train_test_split\n",
    "from sklearn.metrics import classification_report\n",
    "import joblib\n",
    "\n",
    "# Split the data\n",
    "train_data, test_data, train_labels_encoded, test_labels = train_test_split(\n",
    "    data['tokens'], train_labels_encoded, test_size=0.2, random_state=42\n",
    ")\n",
    "\n",
    "# Convert the token lists to strings\n",
    "train_data = train_data.apply(' '.join)\n",
    "test_data = test_data.apply(' '.join)\n",
    "\n",
    "# Convert text data to numerical features (TF-IDF representation)\n",
    "vectorizer = TfidfVectorizer()\n",
    "train_data_tfidf = vectorizer.fit_transform(train_data)\n",
    "test_data_tfidf = vectorizer.transform(test_data)\n",
    "\n",
    "# Create a Naive Bayes classifier\n",
    "clf = MultinomialNB()\n",
    "\n",
    "# Train the model\n",
    "clf.fit(train_data_tfidf, train_labels_encoded)\n",
    "\n",
    "# Save the trained model to a file\n",
    "model_filename = 'news_categorization_model.pkl'\n",
    "joblib.dump(clf, model_filename)\n",
    "\n",
    "# Make predictions\n",
    "predictions_encoded = clf.predict(test_data_tfidf)\n",
    "\n",
    "from sklearn.preprocessing import LabelEncoder\n",
    "\n",
    "# Initialize the LabelEncoder\n",
    "label_encoder = LabelEncoder()\n",
    "\n",
    "# Convert string labels to numerical labels\n",
    "test_labels_encoded = label_encoder.fit_transform(test_labels)\n",
    "\n",
    "# Convert numerical predictions to string labels\n",
    "predictions = label_encoder.inverse_transform(predictions_encoded)\n",
    "\n",
    "# Evaluate the model\n",
    "report = classification_report(test_labels, predictions, zero_division=1)\n",
    "print(report)\n"
   ]
  },
  {
   "cell_type": "code",
   "execution_count": 38,
   "metadata": {},
   "outputs": [
    {
     "name": "stdout",
     "output_type": "stream",
     "text": [
      "[3 3 3 ... 3 3 3]\n",
      "Accuracy: 1.0\n",
      "Classification Report:\n",
      "               precision    recall  f1-score   support\n",
      "\n",
      "           1       1.00      1.00      1.00         5\n",
      "           2       1.00      1.00      1.00         1\n",
      "           3       1.00      1.00      1.00     83116\n",
      "\n",
      "    accuracy                           1.00     83122\n",
      "   macro avg       1.00      1.00      1.00     83122\n",
      "weighted avg       1.00      1.00      1.00     83122\n",
      "\n"
     ]
    }
   ],
   "source": [
    "import pandas as pd          # Data manipulation\n",
    "import nltk                 # Natural Language Processing (NLP)\n",
    "from nltk.tokenize import word_tokenize\n",
    "from sklearn.model_selection import train_test_split   # For splitting the data\n",
    "from sklearn.feature_extraction.text import CountVectorizer, TfidfVectorizer   # Feature extraction\n",
    "from sklearn.naive_bayes import MultinomialNB          # Naive Bayes classifier\n",
    "from sklearn.metrics import classification_report, accuracy_score   # Model evaluation\n",
    "\n",
    "import pandas as pd\n",
    "from sklearn.feature_extraction.text import TfidfVectorizer\n",
    "from sklearn.naive_bayes import MultinomialNB\n",
    "from sklearn.preprocessing import LabelEncoder\n",
    "import joblib\n",
    "\n",
    "# Load the trained model from the saved file\n",
    "model_filename = 'news_categorization_model.pkl'\n",
    "clf = joblib.load(model_filename)\n",
    "\n",
    "# Read the new news articles CSV file\n",
    "data = pd.read_csv('2pageSessions.csv', on_bad_lines='skip', header=None, usecols=[0])\n",
    "\n",
    "# Removing Duplicates\n",
    "data.drop_duplicates(inplace=True)\n",
    "\n",
    "# Converting to Lowercase\n",
    "data[0] = data[0].str.lower()\n",
    "\n",
    "# Handling Missing Values\n",
    "data[0].fillna(\"\", inplace=True)\n",
    "\n",
    "# Tokenize the headlines\n",
    "data['tokens'] = data[0].apply(nltk.word_tokenize)\n",
    "\n",
    "from nltk.stem import PorterStemmer\n",
    "import nltk\n",
    "from nltk.corpus import stopwords\n",
    "\n",
    "\n",
    "# Remove stopwords from each token list\n",
    "stop_words = set(stopwords.words('english'))\n",
    "data['tokens'] = data['tokens'].apply(lambda tokens: [word for word in tokens if word not in stop_words])\n",
    "\n",
    "# Create a stemmer\n",
    "stemmer = PorterStemmer()\n",
    "\n",
    "# Apply stemming to each token list\n",
    "data['tokens'] = data['tokens'].apply(lambda tokens: [stemmer.stem(word) for word in tokens])\n",
    "\n",
    "import re\n",
    "\n",
    "# Define a function to remove special characters from a list of tokens\n",
    "def remove_special_characters(tokens):\n",
    "    cleaned_tokens = [re.sub(r'[^a-zA-Z0-9\\s]', '', token) for token in tokens]\n",
    "    return cleaned_tokens\n",
    "\n",
    "# Apply the function to the 'tokens' column\n",
    "data['tokens'] = data['tokens'].apply(remove_special_characters)\n",
    "\n",
    "# Convert token lists to strings for feature extraction\n",
    "data['processed_text'] = data['tokens'].apply(' '.join)\n",
    "\n",
    "# Convert text data to numerical features (TF-IDF representation)\n",
    "vectorizer = TfidfVectorizer()\n",
    "train_data_tfidf = vectorizer.fit_transform(train_data)\n",
    "test_data_tfidf = vectorizer.transform(test_data)\n",
    "\n",
    "# Make predictions using the loaded model\n",
    "predictions_encoded = clf.predict(test_data_tfidf)\n",
    "\n",
    "# Convert numerical predictions back to original labels\n",
    "predictions = label_encoder.inverse_transform(predictions_encoded)\n",
    "\n",
    "# Print the predictions\n",
    "print(predictions)\n",
    "\n",
    "print(\"Accuracy:\", accuracy_score(predictions_encoded, predictions))\n",
    "print(\"Classification Report:\\n\", classification_report(predictions_encoded, predictions))\n"
   ]
  }
 ],
 "metadata": {
  "kernelspec": {
   "display_name": "Python 3",
   "language": "python",
   "name": "python3"
  },
  "language_info": {
   "codemirror_mode": {
    "name": "ipython",
    "version": 3
   },
   "file_extension": ".py",
   "mimetype": "text/x-python",
   "name": "python",
   "nbconvert_exporter": "python",
   "pygments_lexer": "ipython3",
   "version": "3.11.4"
  },
  "orig_nbformat": 4
 },
 "nbformat": 4,
 "nbformat_minor": 2
}
